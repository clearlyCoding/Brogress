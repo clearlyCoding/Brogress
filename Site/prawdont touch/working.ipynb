{
 "cells": [
  {
   "cell_type": "code",
   "execution_count": 14,
   "metadata": {},
   "outputs": [
    {
     "name": "stdout",
     "output_type": "stream",
     "text": [
      "Parameters not met : Showing All\n",
      "<bound method User.me of <praw.models.user.User object at 0x000001921169A940>>\n",
      "[['M', '24', \"6'3\", '285lbs to 220 lbs', 'https://old.reddit.com/r/brogress/comments/k9lsq2', 'https://i.redd.it/rce97gmrj3461.jpg'], ['M', '21', \"5'11\", '190lbs to 160lbs', 'https://old.reddit.com/r/brogress/comments/k9kk4e', 'https://i.redd.it/vra14w1p53461.jpg'], ['M', '28', \"6'3\", '210lbs to 205lbs', 'https://old.reddit.com/r/brogress/comments/k9jphm', 'https://i.redd.it/ca18byfhw2461.jpg'], ['M', '20', '6’4', '170lbs to 215lbs', 'https://old.reddit.com/r/brogress/comments/k9iqiw', 'https://i.redd.it/mf876eeim2461.jpg'], ['M', '15', \"5'7\", '154 lbs to 132 lbs', 'https://old.reddit.com/r/brogress/comments/k9f51w', 'https://i.redd.it/czzd1lncm1461.png'], ['M', '44', \"6'2\", '240lbs to 195lbs', 'https://old.reddit.com/r/brogress/comments/k9dl8q', 'https://i.redd.it/s5f8ltn481461.jpg'], ['M', '25', \"5'6\", '155lbs to 140lbs', 'https://old.reddit.com/r/brogress/comments/k9di6y', 'https://i.redd.it/6syvr2xb71461.jpg'], ['M', '23', \"5'10\", '110lbs to 143lbs', 'https://old.reddit.com/r/brogress/comments/k9cleg', 'https://i.redd.it/aq5iiiuxy0461.jpg'], ['M', '19', \"5'10\", '143lbs to 188lbs', 'https://old.reddit.com/r/brogress/comments/k98lub', 'https://i.redd.it/4jjker9rzz361.png'], ['M', '21', '6’2', '171lbs to 213lbs', 'https://old.reddit.com/r/brogress/comments/k93hbf', 'https://i.redd.it/c7qwk6apky361.jpg'], ['M', '26', \"6'4\", '174lbs to 218lbs', 'https://old.reddit.com/r/brogress/comments/k90yf0', 'https://i.redd.it/b8nz2jzohx361.jpg'], ['M', '20', \"6'2\", '220lbs to 180lbs', 'https://old.reddit.com/r/brogress/comments/k909j4', 'https://i.redd.it/70qcj07c6x361.jpg'], ['M', '28', \"5'9\", '187lbs to 141lbs', 'https://old.reddit.com/r/brogress/comments/k90529', 'https://i.redd.it/tmrd8ltu3x361.jpg'], ['M', '17', \"5'10\", '130lbs to 150lbs', 'https://old.reddit.com/r/brogress/comments/k8z52p', 'https://www.reddit.com/gallery/k8z52p'], ['M', '26', \"5'6\", '187lbs to 170 lbs', 'https://old.reddit.com/r/brogress/comments/k8y770', 'https://i.redd.it/s951ikmldw361.jpg'], ['M', '21', \"5'10\", '150lbs to 172lbs', 'https://old.reddit.com/r/brogress/comments/k8xkun', 'https://i.imgur.com/OLCurzS.jpg'], ['M', '50', \"6'0\", '245lbs to 185lbs', 'https://old.reddit.com/r/brogress/comments/k8td1z', 'https://i.redd.it/f0wlldft8m161.jpg'], ['M', '22', \"6'0\", '220lbs to 178lbs', 'https://old.reddit.com/r/brogress/comments/k8t3bw', 'https://i.redd.it/g4cl8pdquu361.jpg'], ['M', '21', '6’2', '293lbs to 250lbs', 'https://old.reddit.com/r/brogress/comments/k8soxw', 'https://i.redd.it/0t1cari5ru361.jpg'], ['M', '35', '6’3’’', '203lbs > 175lbs', 'https://old.reddit.com/r/brogress/comments/k8qc91', 'https://i.redd.it/gpzl1amq4u361.jpg'], ['M', '18', \"5'7\", '120lbs to 135lbs', 'https://old.reddit.com/r/brogress/comments/k8ov0z', 'https://i.redd.it/p9d97logst361.jpg'], ['M', '26', \"6'\", '325lbs to 210lbs', 'https://old.reddit.com/r/brogress/comments/k8o5mx', 'https://youtu.be/XPIgac0SO_Q'], ['M', '42', \"6'0\", '266lbs to 212lbs', 'https://old.reddit.com/r/brogress/comments/k8l1yt', 'https://i.imgur.com/x2GZkK0.jpg'], ['M', '34', \"5'11\", '263lbs to 206lbs', 'https://old.reddit.com/r/brogress/comments/k8gwwq', 'https://i.redd.it/3ebbzetzrr361.jpg'], ['M', '27', \"6'0\", '135lbs to 167lbs', 'https://old.reddit.com/r/brogress/comments/k8gng8', 'https://www.reddit.com/gallery/k8gng8'], ['M', '18', '5’9', '153lbs to 201lbs', 'https://old.reddit.com/r/brogress/comments/k8ewjs', 'https://i.redd.it/nf8ojsg92r361.jpg'], ['M', '26', \"5'10\", '68kg to 78kg', 'https://old.reddit.com/r/brogress/comments/k8dm3h', 'https://i.redd.it/lp7h9nhfjq361.jpg'], ['M', '25', '5’11', '130lbs to 190lbs', 'https://old.reddit.com/r/brogress/comments/k8cja0', 'https://i.redd.it/p1pw5j8m2q361.jpg'], ['F', '24', \"5'0\", '120lbs to 107 lbs', 'https://old.reddit.com/r/brogress/comments/k8bvqx', 'https://www.reddit.com/gallery/k8bvqx'], ['M', '19', \"6'2\", '165lbs to 180lbs', 'https://old.reddit.com/r/brogress/comments/k8btdr', 'https://i.redd.it/0oiwlmb0sp361.jpg'], ['M', '22', \"6'0\", '155lbs to 162lbs', 'https://old.reddit.com/r/brogress/comments/k88ijx', 'https://www.reddit.com/gallery/k88ijx'], ['M', '15', '5’6', '107lbs to 128lbs', 'https://old.reddit.com/r/brogress/comments/k85qzu', 'https://i.redd.it/mi8m059stn361.jpg'], ['M', '19', '5’11', '130lbs to 155lbs', 'https://old.reddit.com/r/brogress/comments/k7zakx', 'https://i.redd.it/288vb7x53m361.jpg'], ['M', '18', '6’0', '286lbs to 178lbs', 'https://old.reddit.com/r/brogress/comments/k7x2pi', 'https://i.redd.it/lfrwfxvsil361.jpg'], ['M', '23', \"5'10\", '263lbs to 159lbs', 'https://old.reddit.com/r/brogress/comments/k7v5uc', 'https://i.redd.it/jh98ss0izk361.jpg'], ['M', '30', \"5'10\", '159lbs to 182lbs', 'https://old.reddit.com/r/brogress/comments/k7szc2', 'https://www.reddit.com/gallery/k7szc2'], ['M', '26', \"6'1\", '250lbs to 185lbs', 'https://old.reddit.com/r/brogress/comments/k7qbey', 'https://i.redd.it/s5k32jvx5j361.png'], ['M', '27', '5’10', '135lbs to 175lbs', 'https://old.reddit.com/r/brogress/comments/k7pw9u', 'https://i.redd.it/w860xzyuzi361.jpg'], ['M', '36', \"5'9\", '425lbs to 240lbs', 'https://old.reddit.com/r/brogress/comments/k7obfv', 'https://i.redd.it/z8v5n4r5di361.jpg'], ['M', '30', \"6'3\", '208lbs to 180lbs', 'https://old.reddit.com/r/brogress/comments/k7nihm', 'https://i.redd.it/cdyb0c8b2i361.jpg'], ['M', '22', '6’0', '154lbs to 162lbs', 'https://old.reddit.com/r/brogress/comments/k7myju', 'https://i.redd.it/u0jommjlvh361.jpg'], ['M', '23', \"5'11\", '180lbs to 186lbs', 'https://old.reddit.com/r/brogress/comments/k7mqw4', 'https://i.redd.it/89vqn6f0th361.jpg'], ['M', '42', '6’2', '165lbs to 187lbs', 'https://old.reddit.com/r/brogress/comments/k7j10x', 'https://i.redd.it/udl2pqiamg361.jpg'], ['M', '20', '5’11', '180lbs to 190lbs', 'https://old.reddit.com/r/brogress/comments/k7hm62', 'https://i.redd.it/hti3jb8a7g361.jpg'], ['M', '22', '5’11', '130lbs to 158lbs', 'https://old.reddit.com/r/brogress/comments/k7f3yb', 'https://i.redd.it/muojqi3rhf361.jpg'], ['M', '24', '6’0', '189lbs to 213lbs', 'https://old.reddit.com/r/brogress/comments/k7b4c3', 'https://i.redd.it/3chkbnp0he361.jpg'], ['M', '38', \"5'11\", '208lbs to 190lbs', 'https://old.reddit.com/r/brogress/comments/k7a8lh', 'https://i.redd.it/74ikcwrp8e361.jpg'], ['M', '24', '5’8', '172lbs to 165lbs', 'https://old.reddit.com/r/brogress/comments/k79cyq', 'https://i.redd.it/yj4ow1szzd361.jpg'], ['M', '27', '5’11', '184lbs to 150lbs', 'https://old.reddit.com/r/brogress/comments/k79b35', 'https://i.redd.it/ghe7kylezd361.jpg'], ['M', '26', '6’4', '195 lbs to 209 lbs', 'https://old.reddit.com/r/brogress/comments/k78jr5', 'https://i.redd.it/cngppsz1rd361.jpg'], ['M', '32', '6’1', '203lbs to 168lbs', 'https://old.reddit.com/r/brogress/comments/k76v37', 'https://i.redd.it/r8jjgzbx6d361.png'], ['M', '22', '5’7', '132lbs to 142lbs', 'https://old.reddit.com/r/brogress/comments/k6vxcr', 'https://i.redd.it/7pjebjqn59361.jpg'], ['M', '18', '5’9', '165lbs to 132lbs', 'https://old.reddit.com/r/brogress/comments/k6vc5q', 'https://i.redd.it/pzlmkso109361.jpg'], ['M', '23', \"6'1\", '141lbs to 154lbs', 'https://old.reddit.com/r/brogress/comments/k6urhz', 'https://i.redd.it/x5j7n6j0u8361.jpg'], ['M', '22', '5’11', '130lbs to 158lbs', 'https://old.reddit.com/r/brogress/comments/k6ug1j', 'https://i.redd.it/xlo257rhr8361.jpg'], ['M', '19', \"5'9\", '200lbs to 160lbs', 'https://old.reddit.com/r/brogress/comments/k6ss1t', 'https://i.redd.it/ot8l2680c8361.jpg'], ['M', '24', \"6'3\", '205lbs to 190lbs', 'https://old.reddit.com/r/brogress/comments/k6s617', 'https://i.redd.it/wy5fjopd68361.png'], ['M', '20', \"5'10\", '145lbs to 152lbs', 'https://old.reddit.com/r/brogress/comments/k6pkww', 'https://i.redd.it/jxto80soi7361.jpg'], ['M', '17', '6’2', '145lbs to 166lbs', 'https://old.reddit.com/r/brogress/comments/k6lqaz', 'https://i.redd.it/hzjt0poxi6361.jpg'], ['M', '28', '5’9', '125lbs to 175lbs', 'https://old.reddit.com/r/brogress/comments/k6ki6j', 'https://i.redd.it/kw1ifw0c56361.jpg'], ['M', '33', \"5'6\", '201lbs to 205lbs', 'https://old.reddit.com/r/brogress/comments/k6gfww', 'https://i.redd.it/uoyge78hj4361.jpg'], ['M', '26', '5’11', '167lbs to 178lbs', 'https://old.reddit.com/r/brogress/comments/k6fknk', 'https://www.reddit.com/r/Brogress/comments/k6fknk/m26511_167lbs_to_178lbs_2_years_6_months/'], ['M', '29', '6’5', '215lbs to 295lbs', 'https://old.reddit.com/r/brogress/comments/k6blsv', 'https://i.imgur.com/EcUADLR.jpg'], ['M', '20', \"5'8\", '245lbs to 165lbs', 'https://old.reddit.com/r/brogress/comments/k6bfu2', 'https://www.reddit.com/gallery/k6bfu2'], ['M', '20', '5’11', '155lbs to 185lbs', 'https://old.reddit.com/r/brogress/comments/k6aj04', 'https://i.redd.it/7koxsw2lj2361.jpg'], ['M', '18', \"6'1\", '152lbs to 175lbs', 'https://old.reddit.com/r/brogress/comments/k6aejx', 'https://www.reddit.com/gallery/k6aejx'], ['M', '25', '5’11', '225lbs to 210lbs', 'https://old.reddit.com/r/brogress/comments/k6a3jk', 'https://i.redd.it/yh10tk61f2361.jpg'], ['M', '21', \"6'4\", '615LBS to 240lbs', 'https://old.reddit.com/r/brogress/comments/k68j5y', 'https://i.imgur.com/5ZBNg6P.jpg'], ['M', '33', '6’1', '210lbs to 195lbs', 'https://old.reddit.com/r/brogress/comments/k66rsf', 'https://i.redd.it/yl6makwfj1361.jpg'], ['F', '23', \"5'4\", '128lbs to 135lbs', 'https://old.reddit.com/r/brogress/comments/k64jcj', 'https://i.redd.it/0ge7v17kz0361.jpg'], ['M', '25', '5’10', '285lbs to 195lbs', 'https://old.reddit.com/r/brogress/comments/k61z3a', 'https://www.reddit.com/gallery/k61z3a'], ['M', '20', '5’10', '117lbs to 142lbs', 'https://old.reddit.com/r/brogress/comments/k615jj', 'https://i.redd.it/qcv0y2jv60361.jpg'], ['F', '30', \"5'2\", '132 lbs to 132 lbs', 'https://old.reddit.com/r/brogress/comments/k5zw16', 'https://i.redd.it/0e3rp8uwvz261.jpg'], ['M', '27', '5’10', '178lbs to 154lbs', 'https://old.reddit.com/r/brogress/comments/k5xa05', 'https://i.redd.it/o7y8rwuu5z261.jpg'], ['M', '19', \"6'0\", '119lbs to 191lbs', 'https://old.reddit.com/r/brogress/comments/k5wt45', 'https://i.redd.it/xharhv490z261.jpg'], ['M', '20', \"6'3\", '125lbs to 155lbs', 'https://old.reddit.com/r/brogress/comments/k5pd6g', 'https://www.reddit.com/gallery/k5pd6g'], ['M', '25', \"5'10\", '253lbs to 202lbs', 'https://old.reddit.com/r/brogress/comments/k5km9m', 'https://i.redd.it/bqhsah4ftu261.jpg'], ['M', '34', '5’11', '177lbs to 147lbs', 'https://old.reddit.com/r/brogress/comments/k5ituh', 'https://i.redd.it/vqxi5ck5du261.jpg'], ['M', '38', '5’8', '175lbs to 165lbs', 'https://old.reddit.com/r/brogress/comments/k5hh6z', 'https://i.redd.it/j1ss558j1u261.jpg'], ['M', '22', '6’2', '145lbs to 195lbs', 'https://old.reddit.com/r/brogress/comments/k5cchk', 'https://i.redd.it/4jerzl5uus261.jpg'], ['M', '24', '5’11', '171lbs to 152lbs', 'https://old.reddit.com/r/brogress/comments/k5arqq', 'https://i.redd.it/24jd53hfgs261.jpg'], ['M', '20', \"5'11\", '210lbs to 162lbs', 'https://old.reddit.com/r/brogress/comments/k5alr2', 'https://i.redd.it/m08t2rbses261.jpg'], ['M', '22', '6’0', '135lbs to 165lbs', 'https://old.reddit.com/r/brogress/comments/k5akxa', 'https://i.redd.it/knc6svkles261.jpg'], ['M', '24', \"6'2\", '265lbs to 172lbs', 'https://old.reddit.com/r/brogress/comments/k58hzb', 'https://i.redd.it/l3mh8u2err261.jpg'], ['M', '24', '5’10', '222lbs to 195lbs', 'https://old.reddit.com/r/brogress/comments/k55bnp', 'https://i.redd.it/id9p0bhkfq261.jpg'], ['M', '20', \"5'11\", '115lbs to 168lbs', 'https://old.reddit.com/r/brogress/comments/k540ij', 'https://www.reddit.com/gallery/k540ij'], ['M', '29', \"6'3\", '175lbs to 196lbs', 'https://old.reddit.com/r/brogress/comments/k510n5', 'https://i.redd.it/04amyvznyo261.jpg'], ['M', '19', '5’11', '155lbs to 175lbs', 'https://old.reddit.com/r/brogress/comments/k4zwh5', 'https://i.redd.it/x09s07hdno261.jpg'], ['M', '24', \"5'8\", '175lbs to 160lbs', 'https://old.reddit.com/r/brogress/comments/k4vo1b', 'https://i.redd.it/avaqyflcin261.jpg'], ['M', '32', \"6'3\", '340lbs to 209lbs', 'https://old.reddit.com/r/brogress/comments/k4v9mr', 'https://i.redd.it/pmq0uqrien261.png'], ['M', '19', \"5'8\", '150lbs to 175lbs', 'https://old.reddit.com/r/brogress/comments/k4ucgt', 'https://i.redd.it/qcfq1ztn6n261.jpg'], ['M', '18', '6’', '185lbs to 185lbs', 'https://old.reddit.com/r/brogress/comments/k4rtme', 'https://www.reddit.com/gallery/k4rtme'], ['M', '32', '5’8', '154lbs to 182lbs', 'https://old.reddit.com/r/brogress/comments/k4lf8l', 'https://i.redd.it/7nepv5lc1l261.jpg'], ['M', '24', \"6'3\", '209 lbs to 202 lbs', 'https://old.reddit.com/r/brogress/comments/k4kpz2', 'https://i.redd.it/or5j01yytk261.png'], ['M', '27', \"5'10\", '130lbs to 185lbs', 'https://old.reddit.com/r/brogress/comments/k4iyzz', 'https://i.redd.it/0bv3f3dq6k261.jpg'], ['M', '19', \"5'9\", '130lbs to 180lbs', 'https://old.reddit.com/r/brogress/comments/k4i4m0', 'https://i.imgur.com/DkT2kaf.jpg'], ['M', '22', \"5'11\", '139lbs to 173lbs', 'https://old.reddit.com/r/brogress/comments/k49a2d', 'https://imgur.com/F09a1Ut'], ['M', '25', \"6'3\", '285lbs to 185lbs', 'https://old.reddit.com/r/brogress/comments/k498vc', 'https://i.redd.it/zekzdlajyg261.jpg'], ['M', '22', \"5'8\", '180lbs to 153lbs', 'https://old.reddit.com/r/brogress/comments/k45dgh', 'https://i.redd.it/747pu3ku0g261.jpg']]\n"
     ]
    }
   ],
   "source": [
    "from os.path import isfile\n",
    "import praw\n",
    "#import pandas as pd\n",
    "from time import sleep\n",
    "reddit = praw.Reddit()\n",
    "\n",
    "class SubredditScraper():\n",
    "    def __init__(self, sub, sort, lim, age_, gender_, height_):\n",
    "        self.sub = sub\n",
    "        self.sort = sort\n",
    "        self.lim = lim\n",
    "        self.age_ = age_\n",
    "        self.gender_= gender_\n",
    "        self.height_ = height_       \n",
    "    def scraper(self):\n",
    "        postname=[\"\",\"\",\"\",\"\",\"\"]\n",
    "        countps= 0\n",
    "        countMs = 0\n",
    "        check = True\n",
    "        arr = []\n",
    "        if self.height_=='' or self.height_=='' or self.gender_=='':\n",
    "            check = False\n",
    "            print(\"Parameters not met : Showing All\")\n",
    "            print(reddit.user.me)\n",
    "        for post in reddit.subreddit(self.sub).new(limit= self.lim):\n",
    "            count1 = 0\n",
    "            cols = []\n",
    "            try:\n",
    "                postname = post.title.split(\"/\")\n",
    "                gndr = postname[0]\n",
    "                age = postname[1]\n",
    "                Height = postname[2].split(\"[\")[0]\n",
    "            except:\n",
    "                continue\n",
    "            ft_ = Height.replace('\"','')\n",
    "            ft_ = ft_.replace(chr(8221),'')\n",
    "            ft_ = ft_.replace(\" \",\"\")\n",
    "            wieghtc = post.title.split(\"[\")\n",
    "            weightclass = post.title.split(\"[\")[1].split(\"]\")\n",
    "            weight = weightclass[0]\n",
    "            pid = \"https://old.reddit.com/r/brogress/comments/\"+ post.id\n",
    "            pics = post.url\n",
    "            countps +=1\n",
    "            if check:\n",
    "                if age == self.age_ and ft_ == self.height_  and gndr  == self.gender_:\n",
    "                    cols=[gndr,age,ft_,weight,pid,post.url]\n",
    "                    arr.append(cols)\n",
    "                    countps += 1\n",
    "            else:\n",
    "                cols=[gndr,age,ft_,weight,pid,post.url]\n",
    "                arr.append(cols)\n",
    "                countps += 1            \n",
    "        print(arr)\n",
    "\n",
    "       \n",
    "\t\n",
    "if __name__ == '__main__':\n",
    "\tSubredditScraper(\n",
    "\t\t'brogress',\n",
    "        sort=\"new\",\n",
    "\t\t lim=100,\n",
    "         age_=\"23\",\n",
    "\t\t gender_='',\n",
    "\t\t height_=\"5'9\").scraper()\n",
    "    "
   ]
  },
  {
   "cell_type": "code",
   "execution_count": 27,
   "metadata": {},
   "outputs": [
    {
     "ename": "IndexError",
     "evalue": "list index out of range",
     "output_type": "error",
     "traceback": [
      "\u001b[1;31m---------------------------------------------------------------------------\u001b[0m",
      "\u001b[1;31mIndexError\u001b[0m                                Traceback (most recent call last)",
      "\u001b[1;32m<ipython-input-27-42d2dc56d816>\u001b[0m in \u001b[0;36m<module>\u001b[1;34m\u001b[0m\n\u001b[0;32m      3\u001b[0m \u001b[0ms\u001b[0m \u001b[1;33m=\u001b[0m \u001b[0msubredscrap\u001b[0m\u001b[1;33m.\u001b[0m\u001b[0mSubredditScraper\u001b[0m\u001b[1;33m\u001b[0m\u001b[1;33m\u001b[0m\u001b[0m\n\u001b[0;32m      4\u001b[0m \u001b[1;33m\u001b[0m\u001b[0m\n\u001b[1;32m----> 5\u001b[1;33m \u001b[0ms\u001b[0m\u001b[1;33m(\u001b[0m\u001b[1;34m\"brogress\"\u001b[0m\u001b[1;33m,\u001b[0m \u001b[0msort\u001b[0m \u001b[1;33m=\u001b[0m \u001b[1;34m\"new\"\u001b[0m\u001b[1;33m,\u001b[0m \u001b[0mlim\u001b[0m \u001b[1;33m=\u001b[0m \u001b[1;36m100\u001b[0m\u001b[1;33m,\u001b[0m \u001b[0mage_\u001b[0m \u001b[1;33m=\u001b[0m \u001b[1;34m\"\"\u001b[0m\u001b[1;33m,\u001b[0m \u001b[0mgender_\u001b[0m\u001b[1;33m=\u001b[0m\u001b[1;34m\"\"\u001b[0m\u001b[1;33m,\u001b[0m \u001b[0mheight_\u001b[0m\u001b[1;33m=\u001b[0m\u001b[1;34m\"\"\u001b[0m\u001b[1;33m)\u001b[0m\u001b[1;33m.\u001b[0m\u001b[0mscraper\u001b[0m\u001b[1;33m(\u001b[0m\u001b[1;33m)\u001b[0m\u001b[1;33m\u001b[0m\u001b[1;33m\u001b[0m\u001b[0m\n\u001b[0m",
      "\u001b[1;32m~\\Site\\prawdont touch\\subredscrap.py\u001b[0m in \u001b[0;36m__init__\u001b[1;34m(self, sub, sort, lim, age_, gender_, height_)\u001b[0m\n\u001b[0;32m     28\u001b[0m             \u001b[0mcols\u001b[0m \u001b[1;33m=\u001b[0m \u001b[1;33m[\u001b[0m\u001b[1;33m]\u001b[0m\u001b[1;33m\u001b[0m\u001b[1;33m\u001b[0m\u001b[0m\n\u001b[0;32m     29\u001b[0m             \u001b[0mprint\u001b[0m\u001b[1;33m(\u001b[0m\u001b[0mpost\u001b[0m\u001b[1;33m.\u001b[0m\u001b[0mtitle\u001b[0m\u001b[1;33m)\u001b[0m\u001b[1;33m\u001b[0m\u001b[1;33m\u001b[0m\u001b[0m\n\u001b[1;32m---> 30\u001b[1;33m             \u001b[1;31m#print(len(post.title))\u001b[0m\u001b[1;33m\u001b[0m\u001b[1;33m\u001b[0m\u001b[1;33m\u001b[0m\u001b[0m\n\u001b[0m\u001b[0;32m     31\u001b[0m \u001b[1;33m\u001b[0m\u001b[0m\n\u001b[0;32m     32\u001b[0m \u001b[1;33m\u001b[0m\u001b[0m\n",
      "\u001b[1;31mIndexError\u001b[0m: list index out of range"
     ]
    }
   ],
   "source": [
    "import subredscrap\n",
    "\n",
    "s = subredscrap.SubredditScraper\n",
    "\n",
    "s(\"brogress\", sort = \"new\", lim = 100, age_ = \"\", gender_=\"\", height_=\"\").scraper()"
   ]
  },
  {
   "cell_type": "code",
   "execution_count": 103,
   "metadata": {},
   "outputs": [
    {
     "ename": "ModuleNotFoundError",
     "evalue": "No module named 'PyQt5.QtWebKit'",
     "output_type": "error",
     "traceback": [
      "\u001b[1;31m---------------------------------------------------------------------------\u001b[0m",
      "\u001b[1;31mModuleNotFoundError\u001b[0m                       Traceback (most recent call last)",
      "\u001b[1;32m<ipython-input-103-9f9e3b984347>\u001b[0m in \u001b[0;36m<module>\u001b[1;34m\u001b[0m\n\u001b[0;32m      4\u001b[0m \u001b[1;32mfrom\u001b[0m \u001b[0mPyQt5\u001b[0m\u001b[1;33m.\u001b[0m\u001b[0mQtCore\u001b[0m \u001b[1;32mimport\u001b[0m \u001b[1;33m*\u001b[0m\u001b[1;33m\u001b[0m\u001b[1;33m\u001b[0m\u001b[0m\n\u001b[0;32m      5\u001b[0m \u001b[1;32mfrom\u001b[0m \u001b[0mPyQt5\u001b[0m\u001b[1;33m.\u001b[0m\u001b[0mQtGui\u001b[0m \u001b[1;32mimport\u001b[0m \u001b[1;33m*\u001b[0m\u001b[1;33m\u001b[0m\u001b[1;33m\u001b[0m\u001b[0m\n\u001b[1;32m----> 6\u001b[1;33m \u001b[1;32mfrom\u001b[0m \u001b[0mPyQt5\u001b[0m\u001b[1;33m.\u001b[0m\u001b[0mQtWebKit\u001b[0m \u001b[1;32mimport\u001b[0m \u001b[1;33m*\u001b[0m\u001b[1;33m\u001b[0m\u001b[1;33m\u001b[0m\u001b[0m\n\u001b[0m\u001b[0;32m      7\u001b[0m \u001b[1;32mimport\u001b[0m \u001b[0murllib\u001b[0m\u001b[1;33m\u001b[0m\u001b[1;33m\u001b[0m\u001b[0m\n\u001b[0;32m      8\u001b[0m \u001b[1;33m\u001b[0m\u001b[0m\n",
      "\u001b[1;31mModuleNotFoundError\u001b[0m: No module named 'PyQt5.QtWebKit'"
     ]
    }
   ],
   "source": [
    "#!/usr/bin/python\n",
    "import sys\n",
    "\n",
    "from PyQt5.QtCore import *\n",
    "from PyQt5.QtGui import *\n",
    "from PyQt5.QtWebKit import *\n",
    "import urllib\n",
    "\n",
    "\n",
    "class Window(QWidget):   \n",
    "    def __init__(self, urls, dur):\n",
    "        super(Window, self).__init__()\n",
    "        self.urls = urls\n",
    "        self.duration = dur * 1000\n",
    "        self.view = QWebView(self)\n",
    "        layout = QVBoxLayout(self)\n",
    "        layout.setContentsMargins(0, 0, 0, 0)\n",
    "        layout.addWidget(self.view)\n",
    "        self.nextUrl()\n",
    "\n",
    "    def nextUrl(self):\n",
    "        if self.urls:\n",
    "            url = self.urls.pop(0)\n",
    "            html = urllib.urlopen(url).read()\n",
    "            self.view.setHtml(html)\n",
    "            QTimer.singleShot(self.duration, self.nextUrl)\n",
    "        else:\n",
    "            self.close()\n",
    "\n",
    "def playWidget(urls, dur):\n",
    "    app = QApplication(sys.argv)\n",
    "    window = Window(urls, dur)\n",
    "    window.showFullScreen()\n",
    "    app.exec_()\n",
    "\n",
    "urls = [\n",
    "    'https://tools.ietf.org/html/rfc20',\n",
    "    'https://tools.ietf.org/html/rfc768',\n",
    "    'https://tools.ietf.org/html/rfc791',\n",
    "    ]\n",
    "\n",
    "playWidget(urls, 3)\n"
   ]
  },
  {
   "cell_type": "code",
   "execution_count": 97,
   "metadata": {},
   "outputs": [
    {
     "ename": "SyntaxError",
     "evalue": "invalid syntax (<ipython-input-97-d834d42adf1f>, line 1)",
     "output_type": "error",
     "traceback": [
      "\u001b[1;36m  File \u001b[1;32m\"<ipython-input-97-d834d42adf1f>\"\u001b[1;36m, line \u001b[1;32m1\u001b[0m\n\u001b[1;33m    install PyQt4\u001b[0m\n\u001b[1;37m            ^\u001b[0m\n\u001b[1;31mSyntaxError\u001b[0m\u001b[1;31m:\u001b[0m invalid syntax\n"
     ]
    }
   ],
   "source": [
    "install PyQt4\n"
   ]
  },
  {
   "cell_type": "code",
   "execution_count": 98,
   "metadata": {},
   "outputs": [
    {
     "ename": "SyntaxError",
     "evalue": "invalid syntax (<ipython-input-98-401ff1ada601>, line 1)",
     "output_type": "error",
     "traceback": [
      "\u001b[1;36m  File \u001b[1;32m\"<ipython-input-98-401ff1ada601>\"\u001b[1;36m, line \u001b[1;32m1\u001b[0m\n\u001b[1;33m    python install PyQt4\u001b[0m\n\u001b[1;37m           ^\u001b[0m\n\u001b[1;31mSyntaxError\u001b[0m\u001b[1;31m:\u001b[0m invalid syntax\n"
     ]
    }
   ],
   "source": [
    "python install PyQt4\n"
   ]
  },
  {
   "cell_type": "code",
   "execution_count": 100,
   "metadata": {},
   "outputs": [
    {
     "name": "stdout",
     "output_type": "stream",
     "text": [
      "Collecting PyQt5\n",
      "  Downloading PyQt5-5.15.2-5.15.2-cp35.cp36.cp37.cp38.cp39-none-win_amd64.whl (56.9 MB)\n",
      "Collecting PyQt5-sip<13,>=12.8\n",
      "  Downloading PyQt5_sip-12.8.1-cp38-cp38-win_amd64.whl (63 kB)\n",
      "Installing collected packages: PyQt5-sip, PyQt5\n",
      "Note: you may need to restart the kernel to use updated packages.\n"
     ]
    },
    {
     "name": "stderr",
     "output_type": "stream",
     "text": [
      "ERROR: Could not install packages due to an EnvironmentError: [WinError 5] Access is denied: 'C:\\\\Users\\\\t1185ow\\\\Anaconda3\\\\Lib\\\\site-packages\\\\PyQt5\\\\QtCore.pyd'\n",
      "Consider using the `--user` option or check the permissions.\n",
      "\n"
     ]
    }
   ],
   "source": [
    "pip install PyQt5\n"
   ]
  },
  {
   "cell_type": "code",
   "execution_count": 101,
   "metadata": {},
   "outputs": [
    {
     "name": "stdout",
     "output_type": "stream",
     "text": [
      "Collecting PyQt5\n",
      "  Using cached PyQt5-5.15.2-5.15.2-cp35.cp36.cp37.cp38.cp39-none-win_amd64.whl (56.9 MB)\n",
      "Requirement already satisfied: PyQt5-sip<13,>=12.8 in c:\\users\\t1185ow\\anaconda3\\lib\\site-packages (from PyQt5) (12.8.1)\n",
      "Installing collected packages: PyQt5\n",
      "Successfully installed PyQt5-5.15.2\n",
      "Note: you may need to restart the kernel to use updated packages.\n"
     ]
    },
    {
     "name": "stderr",
     "output_type": "stream",
     "text": [
      "  WARNING: The scripts pylupdate5.exe, pyrcc5.exe and pyuic5.exe are installed in 'C:\\Users\\t1185ow\\AppData\\Roaming\\Python\\Python38\\Scripts' which is not on PATH.\n",
      "  Consider adding this directory to PATH or, if you prefer to suppress this warning, use --no-warn-script-location.\n",
      "ERROR: After October 2020 you may experience errors when installing or updating packages. This is because pip will change the way that it resolves dependency conflicts.\n",
      "\n",
      "We recommend you use --use-feature=2020-resolver to test your packages with the new resolver before it becomes the default.\n",
      "\n",
      "spyder 4.1.5 requires pyqtwebengine<5.13; python_version >= \"3\", which is not installed.\n",
      "spyder 4.1.5 requires pyqt5<5.13; python_version >= \"3\", but you'll have pyqt5 5.15.2 which is incompatible.\n"
     ]
    }
   ],
   "source": [
    "pip install PyQt5 --user\n"
   ]
  },
  {
   "cell_type": "code",
   "execution_count": null,
   "metadata": {},
   "outputs": [],
   "source": [
    "pip install django\n"
   ]
  },
  {
   "cell_type": "code",
   "execution_count": null,
   "metadata": {},
   "outputs": [],
   "source": []
  }
 ],
 "metadata": {
  "kernelspec": {
   "display_name": "Python 3",
   "language": "python",
   "name": "python3"
  },
  "language_info": {
   "codemirror_mode": {
    "name": "ipython",
    "version": 3
   },
   "file_extension": ".py",
   "mimetype": "text/x-python",
   "name": "python",
   "nbconvert_exporter": "python",
   "pygments_lexer": "ipython3",
   "version": "3.8.5"
  }
 },
 "nbformat": 4,
 "nbformat_minor": 4
}
